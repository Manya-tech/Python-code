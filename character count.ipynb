{
 "cells": [
  {
   "cell_type": "code",
   "execution_count": 1,
   "metadata": {},
   "outputs": [
    {
     "name": "stdout",
     "output_type": "stream",
     "text": [
      "no. of lowercase alphbets: 13\n",
      "no. of uppercase aphabets: 2\n",
      "no. of digits: 0\n",
      "no. of spaces: 4\n"
     ]
    }
   ],
   "source": [
    "s=input('enter string:')\n",
    "uc=0\n",
    "lc=0\n",
    "nc=0\n",
    "sc=0\n",
    "for a in s:\n",
    "    if a.islower():\n",
    "        lc+=1\n",
    "    elif a.isupper():\n",
    "        uc+=1\n",
    "    elif a.isdigit():\n",
    "        nc+=1\n",
    "    elif a.isspace():\n",
    "        sc+=1\n",
    "print('no. of lowercase alphbets:',lc)\n",
    "print('no. of uppercase aphabets:',uc)\n",
    "print('no. of digits:',nc)\n",
    "print(\"no. of spaces:\",sc)"
   ]
  }
 ],
 "metadata": {
  "kernelspec": {
   "display_name": "myenv",
   "language": "python",
   "name": "python3"
  },
  "language_info": {
   "codemirror_mode": {
    "name": "ipython",
    "version": 3
   },
   "file_extension": ".py",
   "mimetype": "text/x-python",
   "name": "python",
   "nbconvert_exporter": "python",
   "pygments_lexer": "ipython3",
   "version": "3.9.13"
  },
  "orig_nbformat": 4,
  "vscode": {
   "interpreter": {
    "hash": "84a07b62446d831855704e84510bdce056f4e6fbd801b5694816b69894881978"
   }
  }
 },
 "nbformat": 4,
 "nbformat_minor": 2
}
