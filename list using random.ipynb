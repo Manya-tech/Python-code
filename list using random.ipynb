{
 "cells": [
  {
   "cell_type": "code",
   "execution_count": 1,
   "metadata": {},
   "outputs": [
    {
     "name": "stdout",
     "output_type": "stream",
     "text": [
      "[39, 98, 77, 99, 30, 65, 34, 93, 16, 64, 94, 64, 16, 13, 42, 64, 25, 56, 26, 50]\n",
      "search successful. element 42 found at index no. 14\n"
     ]
    }
   ],
   "source": [
    "from random import randint\n",
    "\n",
    "def filli(lst,limit,low,high):\n",
    "    for i in range (limit):\n",
    "        lst.append(randint(low,high))\n",
    "\n",
    "a=[]\n",
    "min=int(input('ENTER LOWER LIMIT:'))\n",
    "max=int(input('ENTER UPPER LIMIT:'))\n",
    "n=int(input('ENTER NO. OF ELEMENTS:'))\n",
    "\n",
    "filli(a,n,min,max)\n",
    "print(a)\n",
    "\n",
    "s=int(input('ENTER THE ELEMENT TO BE SEARCHED:'))\n",
    "flag=0\n",
    "for i in range(n):\n",
    "    if s==a[i]:\n",
    "        flag=1\n",
    "        break\n",
    "    else:\n",
    "        flag=0\n",
    "\n",
    "if flag==1:\n",
    "    print('search successful. element',s,'found at index no.',i)"
   ]
  }
 ],
 "metadata": {
  "kernelspec": {
   "display_name": "myenv",
   "language": "python",
   "name": "python3"
  },
  "language_info": {
   "codemirror_mode": {
    "name": "ipython",
    "version": 3
   },
   "file_extension": ".py",
   "mimetype": "text/x-python",
   "name": "python",
   "nbconvert_exporter": "python",
   "pygments_lexer": "ipython3",
   "version": "3.9.13"
  },
  "orig_nbformat": 4,
  "vscode": {
   "interpreter": {
    "hash": "84a07b62446d831855704e84510bdce056f4e6fbd801b5694816b69894881978"
   }
  }
 },
 "nbformat": 4,
 "nbformat_minor": 2
}
