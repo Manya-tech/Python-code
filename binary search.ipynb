{
 "cells": [
  {
   "cell_type": "code",
   "execution_count": 1,
   "metadata": {},
   "outputs": [
    {
     "name": "stdout",
     "output_type": "stream",
     "text": [
      "Search Successful. Element Found At 6\n"
     ]
    }
   ],
   "source": [
    "def bs(lst,l,r,x):\n",
    "    if r>=l:\n",
    "        mid=l+(r-1)//2\n",
    "        if lst[mid]==x:\n",
    "            return mid\n",
    "        elif lst[mid]>x:\n",
    "            return bs(lst,l,mid-1,x)\n",
    "        else:\n",
    "            return bs(lst,mid+1,r,x)\n",
    "    else:\n",
    "        return -1\n",
    "def main():\n",
    "    l1=[1,4,8,10,13,19,21,25,34]\n",
    "    n=int(input('Enter data to be searched:'))\n",
    "    res= bs(l1, 0,len(l1)-1, n)\n",
    "    if res != -1 :\n",
    "        print(\"Search Successful. Element Found At\", res)\n",
    "    else:\n",
    "        print(\"Search Unsuccessful\")\n",
    "main()"
   ]
  }
 ],
 "metadata": {
  "kernelspec": {
   "display_name": "myenv",
   "language": "python",
   "name": "python3"
  },
  "language_info": {
   "codemirror_mode": {
    "name": "ipython",
    "version": 3
   },
   "file_extension": ".py",
   "mimetype": "text/x-python",
   "name": "python",
   "nbconvert_exporter": "python",
   "pygments_lexer": "ipython3",
   "version": "3.9.13"
  },
  "orig_nbformat": 4,
  "vscode": {
   "interpreter": {
    "hash": "84a07b62446d831855704e84510bdce056f4e6fbd801b5694816b69894881978"
   }
  }
 },
 "nbformat": 4,
 "nbformat_minor": 2
}
