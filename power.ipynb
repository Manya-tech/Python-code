{
 "cells": [
  {
   "cell_type": "code",
   "execution_count": 1,
   "metadata": {},
   "outputs": [
    {
     "name": "stdout",
     "output_type": "stream",
     "text": [
      "your number: 3125\n"
     ]
    }
   ],
   "source": [
    "def power(a,b):\n",
    "    n=a**b\n",
    "    return n\n",
    "x=int(input('enter no.:'))\n",
    "p=int(input('enter power:'))\n",
    "s=power(x,p)\n",
    "\n",
    "print('your number:',s)"
   ]
  }
 ],
 "metadata": {
  "kernelspec": {
   "display_name": "myenv",
   "language": "python",
   "name": "python3"
  },
  "language_info": {
   "codemirror_mode": {
    "name": "ipython",
    "version": 3
   },
   "file_extension": ".py",
   "mimetype": "text/x-python",
   "name": "python",
   "nbconvert_exporter": "python",
   "pygments_lexer": "ipython3",
   "version": "3.9.13"
  },
  "orig_nbformat": 4,
  "vscode": {
   "interpreter": {
    "hash": "84a07b62446d831855704e84510bdce056f4e6fbd801b5694816b69894881978"
   }
  }
 },
 "nbformat": 4,
 "nbformat_minor": 2
}
