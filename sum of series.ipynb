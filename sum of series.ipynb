{
 "cells": [
  {
   "cell_type": "code",
   "execution_count": null,
   "metadata": {},
   "outputs": [],
   "source": [
    "def sum_series(n):\n",
    "    s=0\n",
    "    for i in range (1,n+1):\n",
    "        s=s+i\n",
    "    return s\n",
    "\n",
    "m=int(input('enter a number:'))\n",
    "su=sum_series(m)\n",
    "\n",
    "print('sum:',su)\n"
   ]
  }
 ],
 "metadata": {
  "language_info": {
   "name": "python"
  },
  "orig_nbformat": 4
 },
 "nbformat": 4,
 "nbformat_minor": 2
}
